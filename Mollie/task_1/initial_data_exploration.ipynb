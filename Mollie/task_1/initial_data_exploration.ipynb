{
 "cells": [
  {
   "cell_type": "markdown",
   "metadata": {},
   "source": [
    "# Imports"
   ]
  },
  {
   "cell_type": "code",
   "execution_count": 1,
   "metadata": {},
   "outputs": [],
   "source": [
    "import pandas as pd\n",
    "import numpy as np\n",
    "import matplotlib.pyplot as plt\n",
    "import seaborn as sns"
   ]
  },
  {
   "cell_type": "code",
   "execution_count": 2,
   "metadata": {},
   "outputs": [],
   "source": [
    "df_org = pd.read_csv('./datasets/organizations.csv')\n",
    "df_methods = pd.read_csv('./datasets/payment_methods.csv')\n",
    "df_payments = pd.read_csv('./datasets/payments.csv')"
   ]
  },
  {
   "cell_type": "code",
   "execution_count": 3,
   "metadata": {},
   "outputs": [
    {
     "data": {
      "text/html": [
       "<div>\n",
       "<style scoped>\n",
       "    .dataframe tbody tr th:only-of-type {\n",
       "        vertical-align: middle;\n",
       "    }\n",
       "\n",
       "    .dataframe tbody tr th {\n",
       "        vertical-align: top;\n",
       "    }\n",
       "\n",
       "    .dataframe thead th {\n",
       "        text-align: right;\n",
       "    }\n",
       "</style>\n",
       "<table border=\"1\" class=\"dataframe\">\n",
       "  <thead>\n",
       "    <tr style=\"text-align: right;\">\n",
       "      <th></th>\n",
       "      <th>customer_id</th>\n",
       "      <th>first_payment_date</th>\n",
       "      <th>channel</th>\n",
       "    </tr>\n",
       "  </thead>\n",
       "  <tbody>\n",
       "    <tr>\n",
       "      <th>0</th>\n",
       "      <td>5568</td>\n",
       "      <td>2020-03-03</td>\n",
       "      <td>2</td>\n",
       "    </tr>\n",
       "    <tr>\n",
       "      <th>1</th>\n",
       "      <td>6763</td>\n",
       "      <td>2020-03-05</td>\n",
       "      <td>2</td>\n",
       "    </tr>\n",
       "    <tr>\n",
       "      <th>2</th>\n",
       "      <td>6816</td>\n",
       "      <td>2020-06-04</td>\n",
       "      <td>2</td>\n",
       "    </tr>\n",
       "    <tr>\n",
       "      <th>3</th>\n",
       "      <td>22350</td>\n",
       "      <td>2020-03-24</td>\n",
       "      <td>2</td>\n",
       "    </tr>\n",
       "    <tr>\n",
       "      <th>4</th>\n",
       "      <td>40800</td>\n",
       "      <td>2020-01-27</td>\n",
       "      <td>2</td>\n",
       "    </tr>\n",
       "  </tbody>\n",
       "</table>\n",
       "</div>"
      ],
      "text/plain": [
       "   customer_id first_payment_date  channel\n",
       "0         5568         2020-03-03        2\n",
       "1         6763         2020-03-05        2\n",
       "2         6816         2020-06-04        2\n",
       "3        22350         2020-03-24        2\n",
       "4        40800         2020-01-27        2"
      ]
     },
     "metadata": {},
     "output_type": "display_data"
    },
    {
     "data": {
      "text/html": [
       "<div>\n",
       "<style scoped>\n",
       "    .dataframe tbody tr th:only-of-type {\n",
       "        vertical-align: middle;\n",
       "    }\n",
       "\n",
       "    .dataframe tbody tr th {\n",
       "        vertical-align: top;\n",
       "    }\n",
       "\n",
       "    .dataframe thead th {\n",
       "        text-align: right;\n",
       "    }\n",
       "</style>\n",
       "<table border=\"1\" class=\"dataframe\">\n",
       "  <thead>\n",
       "    <tr style=\"text-align: right;\">\n",
       "      <th></th>\n",
       "      <th>payment_method_id</th>\n",
       "      <th>fixed_rate</th>\n",
       "      <th>variable_rate</th>\n",
       "    </tr>\n",
       "  </thead>\n",
       "  <tbody>\n",
       "    <tr>\n",
       "      <th>0</th>\n",
       "      <td>3</td>\n",
       "      <td>0.29</td>\n",
       "      <td>0.000</td>\n",
       "    </tr>\n",
       "    <tr>\n",
       "      <th>1</th>\n",
       "      <td>11</td>\n",
       "      <td>0.25</td>\n",
       "      <td>0.018</td>\n",
       "    </tr>\n",
       "    <tr>\n",
       "      <th>2</th>\n",
       "      <td>17</td>\n",
       "      <td>0.39</td>\n",
       "      <td>0.000</td>\n",
       "    </tr>\n",
       "    <tr>\n",
       "      <th>3</th>\n",
       "      <td>19</td>\n",
       "      <td>0.25</td>\n",
       "      <td>0.000</td>\n",
       "    </tr>\n",
       "  </tbody>\n",
       "</table>\n",
       "</div>"
      ],
      "text/plain": [
       "   payment_method_id  fixed_rate  variable_rate\n",
       "0                  3        0.29          0.000\n",
       "1                 11        0.25          0.018\n",
       "2                 17        0.39          0.000\n",
       "3                 19        0.25          0.000"
      ]
     },
     "metadata": {},
     "output_type": "display_data"
    },
    {
     "data": {
      "text/html": [
       "<div>\n",
       "<style scoped>\n",
       "    .dataframe tbody tr th:only-of-type {\n",
       "        vertical-align: middle;\n",
       "    }\n",
       "\n",
       "    .dataframe tbody tr th {\n",
       "        vertical-align: top;\n",
       "    }\n",
       "\n",
       "    .dataframe thead th {\n",
       "        text-align: right;\n",
       "    }\n",
       "</style>\n",
       "<table border=\"1\" class=\"dataframe\">\n",
       "  <thead>\n",
       "    <tr style=\"text-align: right;\">\n",
       "      <th></th>\n",
       "      <th>customer_id</th>\n",
       "      <th>payment_month</th>\n",
       "      <th>payment_method_id</th>\n",
       "      <th>total_transactions</th>\n",
       "      <th>total_volume</th>\n",
       "    </tr>\n",
       "  </thead>\n",
       "  <tbody>\n",
       "    <tr>\n",
       "      <th>0</th>\n",
       "      <td>3120659</td>\n",
       "      <td>2020-01-01</td>\n",
       "      <td>3</td>\n",
       "      <td>241</td>\n",
       "      <td>2543.28</td>\n",
       "    </tr>\n",
       "    <tr>\n",
       "      <th>1</th>\n",
       "      <td>3627499</td>\n",
       "      <td>2020-01-01</td>\n",
       "      <td>3</td>\n",
       "      <td>430</td>\n",
       "      <td>27037.00</td>\n",
       "    </tr>\n",
       "    <tr>\n",
       "      <th>2</th>\n",
       "      <td>3611429</td>\n",
       "      <td>2020-01-01</td>\n",
       "      <td>3</td>\n",
       "      <td>117</td>\n",
       "      <td>6100.00</td>\n",
       "    </tr>\n",
       "    <tr>\n",
       "      <th>3</th>\n",
       "      <td>3772639</td>\n",
       "      <td>2020-01-01</td>\n",
       "      <td>3</td>\n",
       "      <td>27</td>\n",
       "      <td>720.56</td>\n",
       "    </tr>\n",
       "    <tr>\n",
       "      <th>4</th>\n",
       "      <td>3789659</td>\n",
       "      <td>2020-01-01</td>\n",
       "      <td>3</td>\n",
       "      <td>15</td>\n",
       "      <td>440.35</td>\n",
       "    </tr>\n",
       "  </tbody>\n",
       "</table>\n",
       "</div>"
      ],
      "text/plain": [
       "   customer_id payment_month  payment_method_id  total_transactions  \\\n",
       "0      3120659    2020-01-01                  3                 241   \n",
       "1      3627499    2020-01-01                  3                 430   \n",
       "2      3611429    2020-01-01                  3                 117   \n",
       "3      3772639    2020-01-01                  3                  27   \n",
       "4      3789659    2020-01-01                  3                  15   \n",
       "\n",
       "   total_volume  \n",
       "0       2543.28  \n",
       "1      27037.00  \n",
       "2       6100.00  \n",
       "3        720.56  \n",
       "4        440.35  "
      ]
     },
     "metadata": {},
     "output_type": "display_data"
    }
   ],
   "source": [
    "for x in [df_org, df_methods, df_payments]:\n",
    "    display(x.head())"
   ]
  },
  {
   "cell_type": "markdown",
   "metadata": {},
   "source": [
    "# Exploration"
   ]
  },
  {
   "cell_type": "code",
   "execution_count": 4,
   "metadata": {},
   "outputs": [],
   "source": [
    "def column_checks(df):\n",
    "    report = {}\n",
    "    \n",
    "    for column in df.columns:\n",
    "        data = df[column]\n",
    "        # Setting default column info dictionary\n",
    "        col_info = {\n",
    "            'data_type': data.dtype,\n",
    "            'num_null_values': data.isnull().sum(),\n",
    "            'num_unique_values': data.nunique(),\n",
    "            'unique_ratio': data.nunique() / len(data),\n",
    "            'has_duplicates': not data.is_unique,\n",
    "            'num_duplicates': len(data) - data.nunique(),\n",
    "            'most_frequent_value': data.mode()[0] if not data.mode().empty else None,\n",
    "            'is_numeric': pd.api.types.is_numeric_dtype(data),\n",
    "            'is_date': False,\n",
    "            'has_invalid_dates': None\n",
    "        }\n",
    "        \n",
    "        # Check if column potentially contains dates\n",
    "        if data.dtype == 'object' or pd.api.types.is_string_dtype(data):\n",
    "            try:\n",
    "                date_series = pd.to_datetime(data, errors='coerce')\n",
    "                if pd.api.types.is_datetime64_any_dtype(date_series):\n",
    "                    col_info['is_date'] = True\n",
    "                    col_info['has_invalid_dates'] = date_series.isna().sum() > data.isnull().sum()\n",
    "                    col_info['is_numeric'] = False\n",
    "            except Exception as e:\n",
    "                col_info['is_date'] = False\n",
    "                col_info['has_invalid_dates'] = None\n",
    "\n",
    "        # Summary stats for numeric columns\n",
    "        if col_info['is_numeric']:\n",
    "            col_info['mean'] = data.mean()\n",
    "            col_info['min'] = data.min()\n",
    "            col_info['max'] = data.max()\n",
    "            col_info['std'] = data.std()\n",
    "        \n",
    "        report[column] = col_info\n",
    "    \n",
    "    report_df = pd.DataFrame(report)\n",
    "    return report_df\n"
   ]
  },
  {
   "cell_type": "markdown",
   "metadata": {},
   "source": [
    "## Companies"
   ]
  },
  {
   "cell_type": "code",
   "execution_count": 5,
   "metadata": {},
   "outputs": [
    {
     "data": {
      "text/html": [
       "<div>\n",
       "<style scoped>\n",
       "    .dataframe tbody tr th:only-of-type {\n",
       "        vertical-align: middle;\n",
       "    }\n",
       "\n",
       "    .dataframe tbody tr th {\n",
       "        vertical-align: top;\n",
       "    }\n",
       "\n",
       "    .dataframe thead th {\n",
       "        text-align: right;\n",
       "    }\n",
       "</style>\n",
       "<table border=\"1\" class=\"dataframe\">\n",
       "  <thead>\n",
       "    <tr style=\"text-align: right;\">\n",
       "      <th></th>\n",
       "      <th>customer_id</th>\n",
       "      <th>first_payment_date</th>\n",
       "      <th>channel</th>\n",
       "    </tr>\n",
       "  </thead>\n",
       "  <tbody>\n",
       "    <tr>\n",
       "      <th>data_type</th>\n",
       "      <td>int64</td>\n",
       "      <td>object</td>\n",
       "      <td>int64</td>\n",
       "    </tr>\n",
       "    <tr>\n",
       "      <th>num_null_values</th>\n",
       "      <td>0</td>\n",
       "      <td>0</td>\n",
       "      <td>0</td>\n",
       "    </tr>\n",
       "    <tr>\n",
       "      <th>num_unique_values</th>\n",
       "      <td>10098</td>\n",
       "      <td>181</td>\n",
       "      <td>2</td>\n",
       "    </tr>\n",
       "    <tr>\n",
       "      <th>unique_ratio</th>\n",
       "      <td>1.0</td>\n",
       "      <td>0.017924</td>\n",
       "      <td>0.000198</td>\n",
       "    </tr>\n",
       "    <tr>\n",
       "      <th>has_duplicates</th>\n",
       "      <td>False</td>\n",
       "      <td>True</td>\n",
       "      <td>True</td>\n",
       "    </tr>\n",
       "    <tr>\n",
       "      <th>num_duplicates</th>\n",
       "      <td>0</td>\n",
       "      <td>9917</td>\n",
       "      <td>10096</td>\n",
       "    </tr>\n",
       "    <tr>\n",
       "      <th>most_frequent_value</th>\n",
       "      <td>5568</td>\n",
       "      <td>2020-01-02</td>\n",
       "      <td>2</td>\n",
       "    </tr>\n",
       "    <tr>\n",
       "      <th>is_numeric</th>\n",
       "      <td>True</td>\n",
       "      <td>False</td>\n",
       "      <td>True</td>\n",
       "    </tr>\n",
       "    <tr>\n",
       "      <th>is_date</th>\n",
       "      <td>False</td>\n",
       "      <td>True</td>\n",
       "      <td>False</td>\n",
       "    </tr>\n",
       "    <tr>\n",
       "      <th>has_invalid_dates</th>\n",
       "      <td>None</td>\n",
       "      <td>False</td>\n",
       "      <td>None</td>\n",
       "    </tr>\n",
       "    <tr>\n",
       "      <th>mean</th>\n",
       "      <td>3797633.842246</td>\n",
       "      <td>NaN</td>\n",
       "      <td>1.983858</td>\n",
       "    </tr>\n",
       "    <tr>\n",
       "      <th>min</th>\n",
       "      <td>5568</td>\n",
       "      <td>NaN</td>\n",
       "      <td>1</td>\n",
       "    </tr>\n",
       "    <tr>\n",
       "      <th>max</th>\n",
       "      <td>4500829</td>\n",
       "      <td>NaN</td>\n",
       "      <td>2</td>\n",
       "    </tr>\n",
       "    <tr>\n",
       "      <th>std</th>\n",
       "      <td>581529.844343</td>\n",
       "      <td>NaN</td>\n",
       "      <td>0.126027</td>\n",
       "    </tr>\n",
       "  </tbody>\n",
       "</table>\n",
       "</div>"
      ],
      "text/plain": [
       "                        customer_id first_payment_date   channel\n",
       "data_type                     int64             object     int64\n",
       "num_null_values                   0                  0         0\n",
       "num_unique_values             10098                181         2\n",
       "unique_ratio                    1.0           0.017924  0.000198\n",
       "has_duplicates                False               True      True\n",
       "num_duplicates                    0               9917     10096\n",
       "most_frequent_value            5568         2020-01-02         2\n",
       "is_numeric                     True              False      True\n",
       "is_date                       False               True     False\n",
       "has_invalid_dates              None              False      None\n",
       "mean                 3797633.842246                NaN  1.983858\n",
       "min                            5568                NaN         1\n",
       "max                         4500829                NaN         2\n",
       "std                   581529.844343                NaN  0.126027"
      ]
     },
     "execution_count": 5,
     "metadata": {},
     "output_type": "execute_result"
    }
   ],
   "source": [
    "column_checks(df_org)"
   ]
  },
  {
   "cell_type": "code",
   "execution_count": 6,
   "metadata": {},
   "outputs": [],
   "source": [
    "df_org['first_payment_date'] = pd.to_datetime(df_org['first_payment_date'])"
   ]
  },
  {
   "cell_type": "code",
   "execution_count": 7,
   "metadata": {},
   "outputs": [
    {
     "data": {
      "image/png": "[encoded data removed]",
      "text/plain": [
       "<Figure size 640x480 with 1 Axes>"
      ]
     },
     "metadata": {},
     "output_type": "display_data"
    }
   ],
   "source": [
    "plt.hist(df_org['first_payment_date'], bins=20);"
   ]
  },
  {
   "cell_type": "markdown",
   "metadata": {},
   "source": [
    "## Payments"
   ]
  },
  {
   "cell_type": "code",
   "execution_count": 8,
   "metadata": {},
   "outputs": [
    {
     "data": {
      "text/html": [
       "<div>\n",
       "<style scoped>\n",
       "    .dataframe tbody tr th:only-of-type {\n",
       "        vertical-align: middle;\n",
       "    }\n",
       "\n",
       "    .dataframe tbody tr th {\n",
       "        vertical-align: top;\n",
       "    }\n",
       "\n",
       "    .dataframe thead th {\n",
       "        text-align: right;\n",
       "    }\n",
       "</style>\n",
       "<table border=\"1\" class=\"dataframe\">\n",
       "  <thead>\n",
       "    <tr style=\"text-align: right;\">\n",
       "      <th></th>\n",
       "      <th>customer_id</th>\n",
       "      <th>payment_month</th>\n",
       "      <th>payment_method_id</th>\n",
       "      <th>total_transactions</th>\n",
       "      <th>total_volume</th>\n",
       "    </tr>\n",
       "  </thead>\n",
       "  <tbody>\n",
       "    <tr>\n",
       "      <th>data_type</th>\n",
       "      <td>int64</td>\n",
       "      <td>object</td>\n",
       "      <td>int64</td>\n",
       "      <td>int64</td>\n",
       "      <td>float64</td>\n",
       "    </tr>\n",
       "    <tr>\n",
       "      <th>num_null_values</th>\n",
       "      <td>0</td>\n",
       "      <td>0</td>\n",
       "      <td>0</td>\n",
       "      <td>0</td>\n",
       "      <td>0</td>\n",
       "    </tr>\n",
       "    <tr>\n",
       "      <th>num_unique_values</th>\n",
       "      <td>9871</td>\n",
       "      <td>6</td>\n",
       "      <td>4</td>\n",
       "      <td>667</td>\n",
       "      <td>18495</td>\n",
       "    </tr>\n",
       "    <tr>\n",
       "      <th>unique_ratio</th>\n",
       "      <td>0.320674</td>\n",
       "      <td>0.000195</td>\n",
       "      <td>0.00013</td>\n",
       "      <td>0.021669</td>\n",
       "      <td>0.600838</td>\n",
       "    </tr>\n",
       "    <tr>\n",
       "      <th>has_duplicates</th>\n",
       "      <td>True</td>\n",
       "      <td>True</td>\n",
       "      <td>True</td>\n",
       "      <td>True</td>\n",
       "      <td>True</td>\n",
       "    </tr>\n",
       "    <tr>\n",
       "      <th>num_duplicates</th>\n",
       "      <td>20911</td>\n",
       "      <td>30776</td>\n",
       "      <td>30778</td>\n",
       "      <td>30115</td>\n",
       "      <td>12287</td>\n",
       "    </tr>\n",
       "    <tr>\n",
       "      <th>most_frequent_value</th>\n",
       "      <td>3880359</td>\n",
       "      <td>2020-06-01</td>\n",
       "      <td>3</td>\n",
       "      <td>1</td>\n",
       "      <td>1.0</td>\n",
       "    </tr>\n",
       "    <tr>\n",
       "      <th>is_numeric</th>\n",
       "      <td>True</td>\n",
       "      <td>False</td>\n",
       "      <td>True</td>\n",
       "      <td>True</td>\n",
       "      <td>True</td>\n",
       "    </tr>\n",
       "    <tr>\n",
       "      <th>is_date</th>\n",
       "      <td>False</td>\n",
       "      <td>True</td>\n",
       "      <td>False</td>\n",
       "      <td>False</td>\n",
       "      <td>False</td>\n",
       "    </tr>\n",
       "    <tr>\n",
       "      <th>has_invalid_dates</th>\n",
       "      <td>None</td>\n",
       "      <td>False</td>\n",
       "      <td>None</td>\n",
       "      <td>None</td>\n",
       "      <td>None</td>\n",
       "    </tr>\n",
       "    <tr>\n",
       "      <th>mean</th>\n",
       "      <td>3751125.926061</td>\n",
       "      <td>NaN</td>\n",
       "      <td>6.161458</td>\n",
       "      <td>32.676044</td>\n",
       "      <td>2926.663363</td>\n",
       "    </tr>\n",
       "    <tr>\n",
       "      <th>min</th>\n",
       "      <td>5568</td>\n",
       "      <td>NaN</td>\n",
       "      <td>3</td>\n",
       "      <td>1</td>\n",
       "      <td>0.01</td>\n",
       "    </tr>\n",
       "    <tr>\n",
       "      <th>max</th>\n",
       "      <td>4500829</td>\n",
       "      <td>NaN</td>\n",
       "      <td>19</td>\n",
       "      <td>24070</td>\n",
       "      <td>2550223.07</td>\n",
       "    </tr>\n",
       "    <tr>\n",
       "      <th>std</th>\n",
       "      <td>542553.336792</td>\n",
       "      <td>NaN</td>\n",
       "      <td>5.490276</td>\n",
       "      <td>337.291727</td>\n",
       "      <td>37262.825207</td>\n",
       "    </tr>\n",
       "  </tbody>\n",
       "</table>\n",
       "</div>"
      ],
      "text/plain": [
       "                        customer_id payment_month payment_method_id  \\\n",
       "data_type                     int64        object             int64   \n",
       "num_null_values                   0             0                 0   \n",
       "num_unique_values              9871             6                 4   \n",
       "unique_ratio               0.320674      0.000195           0.00013   \n",
       "has_duplicates                 True          True              True   \n",
       "num_duplicates                20911         30776             30778   \n",
       "most_frequent_value         3880359    2020-06-01                 3   \n",
       "is_numeric                     True         False              True   \n",
       "is_date                       False          True             False   \n",
       "has_invalid_dates              None         False              None   \n",
       "mean                 3751125.926061           NaN          6.161458   \n",
       "min                            5568           NaN                 3   \n",
       "max                         4500829           NaN                19   \n",
       "std                   542553.336792           NaN          5.490276   \n",
       "\n",
       "                    total_transactions  total_volume  \n",
       "data_type                        int64       float64  \n",
       "num_null_values                      0             0  \n",
       "num_unique_values                  667         18495  \n",
       "unique_ratio                  0.021669      0.600838  \n",
       "has_duplicates                    True          True  \n",
       "num_duplicates                   30115         12287  \n",
       "most_frequent_value                  1           1.0  \n",
       "is_numeric                        True          True  \n",
       "is_date                          False         False  \n",
       "has_invalid_dates                 None          None  \n",
       "mean                         32.676044   2926.663363  \n",
       "min                                  1          0.01  \n",
       "max                              24070    2550223.07  \n",
       "std                         337.291727  37262.825207  "
      ]
     },
     "execution_count": 8,
     "metadata": {},
     "output_type": "execute_result"
    }
   ],
   "source": [
    "column_checks(df_payments)"
   ]
  },
  {
   "cell_type": "code",
   "execution_count": 9,
   "metadata": {},
   "outputs": [
    {
     "data": {
      "text/plain": [
       "True"
      ]
     },
     "execution_count": 9,
     "metadata": {},
     "output_type": "execute_result"
    }
   ],
   "source": [
    "pd.api.types.is_string_dtype(df_payments.payment_month)"
   ]
  },
  {
   "cell_type": "code",
   "execution_count": 10,
   "metadata": {},
   "outputs": [],
   "source": [
    "df_payments.payment_month = pd.to_datetime(df_payments.payment_month)"
   ]
  },
  {
   "cell_type": "code",
   "execution_count": 11,
   "metadata": {},
   "outputs": [
    {
     "data": {
      "image/png": "[encoded data removed]",
      "text/plain": [
       "<Figure size 640x480 with 1 Axes>"
      ]
     },
     "metadata": {},
     "output_type": "display_data"
    }
   ],
   "source": [
    "plt.hist(df_payments['payment_month'], bins=20);"
   ]
  },
  {
   "cell_type": "code",
   "execution_count": 12,
   "metadata": {},
   "outputs": [
    {
     "data": {
      "text/plain": [
       "True"
      ]
     },
     "execution_count": 12,
     "metadata": {},
     "output_type": "execute_result"
    }
   ],
   "source": [
    "# Checking if there are payments earlier than the first payment date\n",
    "(\n",
    "    pd.merge(df_payments, df_org, on='customer_id')\n",
    "    .assign(\n",
    "        first_payment_month= lambda x: x['first_payment_date'].dt.to_period('M').dt.to_timestamp()\n",
    "    )\n",
    "    .where(lambda x: x['payment_month'] < x['first_payment_month'])\n",
    "    .dropna()\n",
    "    .empty\n",
    ")"
   ]
  },
  {
   "cell_type": "code",
   "execution_count": 13,
   "metadata": {},
   "outputs": [],
   "source": [
    "# Checking if there are payments without customer data\n",
    "_df = pd.merge(df_payments, df_org, on='customer_id', how='left')"
   ]
  },
  {
   "cell_type": "code",
   "execution_count": 14,
   "metadata": {},
   "outputs": [
    {
     "data": {
      "text/plain": [
       "True"
      ]
     },
     "execution_count": 14,
     "metadata": {},
     "output_type": "execute_result"
    }
   ],
   "source": [
    "_df[_df['customer_id'].isna()].empty"
   ]
  },
  {
   "cell_type": "code",
   "execution_count": 15,
   "metadata": {},
   "outputs": [
    {
     "data": {
      "text/plain": [
       "array([ 3, 11, 17, 19], dtype=int64)"
      ]
     },
     "execution_count": 15,
     "metadata": {},
     "output_type": "execute_result"
    }
   ],
   "source": [
    "# What payment methods are available?\n",
    "_df.payment_method_id.unique()"
   ]
  },
  {
   "cell_type": "code",
   "execution_count": 16,
   "metadata": {},
   "outputs": [
    {
     "data": {
      "text/plain": [
       "(9871, 10098)"
      ]
     },
     "execution_count": 16,
     "metadata": {},
     "output_type": "execute_result"
    }
   ],
   "source": [
    "# Checking if there are customers without payments\n",
    "df_payments.customer_id.nunique(), df_org.customer_id.nunique()"
   ]
  },
  {
   "cell_type": "code",
   "execution_count": 17,
   "metadata": {},
   "outputs": [
    {
     "data": {
      "image/png": "[encoded data removed]",
      "text/plain": [
       "<Figure size 640x480 with 1 Axes>"
      ]
     },
     "metadata": {},
     "output_type": "display_data"
    }
   ],
   "source": [
    "# How many transactions per customer occur monthly?\n",
    "plt.boxplot(df_payments['total_transactions'], vert=False, showfliers=False);"
   ]
  },
  {
   "cell_type": "code",
   "execution_count": 18,
   "metadata": {},
   "outputs": [
    {
     "data": {
      "text/plain": [
       "count    3.078200e+04\n",
       "mean     2.926663e+03\n",
       "std      3.726283e+04\n",
       "min      1.000000e-02\n",
       "25%      6.000000e+01\n",
       "50%      2.444350e+02\n",
       "75%      1.036648e+03\n",
       "max      2.550223e+06\n",
       "Name: total_volume, dtype: float64"
      ]
     },
     "execution_count": 18,
     "metadata": {},
     "output_type": "execute_result"
    }
   ],
   "source": [
    "# Checking the distribution of values for total_volume\n",
    "df_payments.total_volume.describe()"
   ]
  },
  {
   "cell_type": "code",
   "execution_count": 19,
   "metadata": {},
   "outputs": [
    {
     "data": {
      "text/plain": [
       "0"
      ]
     },
     "execution_count": 19,
     "metadata": {},
     "output_type": "execute_result"
    }
   ],
   "source": [
    "# Are there any negative values?\n",
    "df_payments.total_volume[df_payments.total_volume < 0].count()"
   ]
  },
  {
   "cell_type": "code",
   "execution_count": 20,
   "metadata": {},
   "outputs": [
    {
     "data": {
      "text/plain": [
       "485"
      ]
     },
     "execution_count": 20,
     "metadata": {},
     "output_type": "execute_result"
    }
   ],
   "source": [
    "# What about extremely low values?\n",
    "df_payments.total_volume[df_payments.total_volume < 1].count()"
   ]
  },
  {
   "cell_type": "markdown",
   "metadata": {},
   "source": [
    "# Transactions df compose"
   ]
  },
  {
   "cell_type": "code",
   "execution_count": 89,
   "metadata": {},
   "outputs": [
    {
     "data": {
      "text/html": [
       "<div>\n",
       "<style scoped>\n",
       "    .dataframe tbody tr th:only-of-type {\n",
       "        vertical-align: middle;\n",
       "    }\n",
       "\n",
       "    .dataframe tbody tr th {\n",
       "        vertical-align: top;\n",
       "    }\n",
       "\n",
       "    .dataframe thead th {\n",
       "        text-align: right;\n",
       "    }\n",
       "</style>\n",
       "<table border=\"1\" class=\"dataframe\">\n",
       "  <thead>\n",
       "    <tr style=\"text-align: right;\">\n",
       "      <th></th>\n",
       "      <th>customer_id</th>\n",
       "      <th>first_payment_date</th>\n",
       "      <th>channel</th>\n",
       "      <th>payment_month</th>\n",
       "      <th>first_payment_month</th>\n",
       "      <th>payment_method_id</th>\n",
       "      <th>total_transactions</th>\n",
       "      <th>total_volume</th>\n",
       "      <th>fixed_rate</th>\n",
       "      <th>variable_rate</th>\n",
       "      <th>fixed_rate_comission</th>\n",
       "      <th>variable_rate_comission</th>\n",
       "      <th>total_comission</th>\n",
       "    </tr>\n",
       "  </thead>\n",
       "  <tbody>\n",
       "    <tr>\n",
       "      <th>0</th>\n",
       "      <td>5568.0</td>\n",
       "      <td>2020-03-03</td>\n",
       "      <td>2.0</td>\n",
       "      <td>2020-03-01</td>\n",
       "      <td>2020-03-01</td>\n",
       "      <td>3.0</td>\n",
       "      <td>2.0</td>\n",
       "      <td>112.17</td>\n",
       "      <td>0.29</td>\n",
       "      <td>0.0</td>\n",
       "      <td>0.58</td>\n",
       "      <td>0.0</td>\n",
       "      <td>0.58</td>\n",
       "    </tr>\n",
       "    <tr>\n",
       "      <th>1</th>\n",
       "      <td>5568.0</td>\n",
       "      <td>2020-03-03</td>\n",
       "      <td>2.0</td>\n",
       "      <td>2020-04-01</td>\n",
       "      <td>2020-03-01</td>\n",
       "      <td>3.0</td>\n",
       "      <td>3.0</td>\n",
       "      <td>236.86</td>\n",
       "      <td>0.29</td>\n",
       "      <td>0.0</td>\n",
       "      <td>0.87</td>\n",
       "      <td>0.0</td>\n",
       "      <td>0.87</td>\n",
       "    </tr>\n",
       "    <tr>\n",
       "      <th>2</th>\n",
       "      <td>5568.0</td>\n",
       "      <td>2020-03-03</td>\n",
       "      <td>2.0</td>\n",
       "      <td>2020-05-01</td>\n",
       "      <td>2020-03-01</td>\n",
       "      <td>3.0</td>\n",
       "      <td>2.0</td>\n",
       "      <td>100.13</td>\n",
       "      <td>0.29</td>\n",
       "      <td>0.0</td>\n",
       "      <td>0.58</td>\n",
       "      <td>0.0</td>\n",
       "      <td>0.58</td>\n",
       "    </tr>\n",
       "    <tr>\n",
       "      <th>3</th>\n",
       "      <td>5568.0</td>\n",
       "      <td>2020-03-03</td>\n",
       "      <td>2.0</td>\n",
       "      <td>2020-06-01</td>\n",
       "      <td>2020-03-01</td>\n",
       "      <td>3.0</td>\n",
       "      <td>4.0</td>\n",
       "      <td>20.88</td>\n",
       "      <td>0.29</td>\n",
       "      <td>0.0</td>\n",
       "      <td>1.16</td>\n",
       "      <td>0.0</td>\n",
       "      <td>1.16</td>\n",
       "    </tr>\n",
       "    <tr>\n",
       "      <th>4</th>\n",
       "      <td>6763.0</td>\n",
       "      <td>2020-03-05</td>\n",
       "      <td>2.0</td>\n",
       "      <td>2020-03-01</td>\n",
       "      <td>2020-03-01</td>\n",
       "      <td>3.0</td>\n",
       "      <td>4.0</td>\n",
       "      <td>48.40</td>\n",
       "      <td>0.29</td>\n",
       "      <td>0.0</td>\n",
       "      <td>1.16</td>\n",
       "      <td>0.0</td>\n",
       "      <td>1.16</td>\n",
       "    </tr>\n",
       "    <tr>\n",
       "      <th>...</th>\n",
       "      <td>...</td>\n",
       "      <td>...</td>\n",
       "      <td>...</td>\n",
       "      <td>...</td>\n",
       "      <td>...</td>\n",
       "      <td>...</td>\n",
       "      <td>...</td>\n",
       "      <td>...</td>\n",
       "      <td>...</td>\n",
       "      <td>...</td>\n",
       "      <td>...</td>\n",
       "      <td>...</td>\n",
       "      <td>...</td>\n",
       "    </tr>\n",
       "    <tr>\n",
       "      <th>41345</th>\n",
       "      <td>4496799.0</td>\n",
       "      <td>2020-06-28</td>\n",
       "      <td>2.0</td>\n",
       "      <td>2020-06-01</td>\n",
       "      <td>2020-06-01</td>\n",
       "      <td>3.0</td>\n",
       "      <td>2.0</td>\n",
       "      <td>33.70</td>\n",
       "      <td>0.29</td>\n",
       "      <td>0.0</td>\n",
       "      <td>0.58</td>\n",
       "      <td>0.0</td>\n",
       "      <td>0.58</td>\n",
       "    </tr>\n",
       "    <tr>\n",
       "      <th>41346</th>\n",
       "      <td>4498219.0</td>\n",
       "      <td>2020-06-29</td>\n",
       "      <td>2.0</td>\n",
       "      <td>2020-06-01</td>\n",
       "      <td>2020-06-01</td>\n",
       "      <td>3.0</td>\n",
       "      <td>2.0</td>\n",
       "      <td>2.01</td>\n",
       "      <td>0.29</td>\n",
       "      <td>0.0</td>\n",
       "      <td>0.58</td>\n",
       "      <td>0.0</td>\n",
       "      <td>0.58</td>\n",
       "    </tr>\n",
       "    <tr>\n",
       "      <th>41347</th>\n",
       "      <td>4498909.0</td>\n",
       "      <td>2020-06-29</td>\n",
       "      <td>2.0</td>\n",
       "      <td>2020-06-01</td>\n",
       "      <td>2020-06-01</td>\n",
       "      <td>3.0</td>\n",
       "      <td>3.0</td>\n",
       "      <td>26.95</td>\n",
       "      <td>0.29</td>\n",
       "      <td>0.0</td>\n",
       "      <td>0.87</td>\n",
       "      <td>0.0</td>\n",
       "      <td>0.87</td>\n",
       "    </tr>\n",
       "    <tr>\n",
       "      <th>41348</th>\n",
       "      <td>4498969.0</td>\n",
       "      <td>2020-06-30</td>\n",
       "      <td>2.0</td>\n",
       "      <td>2020-06-01</td>\n",
       "      <td>2020-06-01</td>\n",
       "      <td>3.0</td>\n",
       "      <td>1.0</td>\n",
       "      <td>210.00</td>\n",
       "      <td>0.29</td>\n",
       "      <td>0.0</td>\n",
       "      <td>0.29</td>\n",
       "      <td>0.0</td>\n",
       "      <td>0.29</td>\n",
       "    </tr>\n",
       "    <tr>\n",
       "      <th>41349</th>\n",
       "      <td>4500829.0</td>\n",
       "      <td>2020-06-30</td>\n",
       "      <td>2.0</td>\n",
       "      <td>2020-06-01</td>\n",
       "      <td>2020-06-01</td>\n",
       "      <td>3.0</td>\n",
       "      <td>1.0</td>\n",
       "      <td>9.49</td>\n",
       "      <td>0.29</td>\n",
       "      <td>0.0</td>\n",
       "      <td>0.29</td>\n",
       "      <td>0.0</td>\n",
       "      <td>0.29</td>\n",
       "    </tr>\n",
       "  </tbody>\n",
       "</table>\n",
       "<p>41350 rows × 13 columns</p>\n",
       "</div>"
      ],
      "text/plain": [
       "       customer_id first_payment_date  channel payment_month  \\\n",
       "0           5568.0         2020-03-03      2.0    2020-03-01   \n",
       "1           5568.0         2020-03-03      2.0    2020-04-01   \n",
       "2           5568.0         2020-03-03      2.0    2020-05-01   \n",
       "3           5568.0         2020-03-03      2.0    2020-06-01   \n",
       "4           6763.0         2020-03-05      2.0    2020-03-01   \n",
       "...            ...                ...      ...           ...   \n",
       "41345    4496799.0         2020-06-28      2.0    2020-06-01   \n",
       "41346    4498219.0         2020-06-29      2.0    2020-06-01   \n",
       "41347    4498909.0         2020-06-29      2.0    2020-06-01   \n",
       "41348    4498969.0         2020-06-30      2.0    2020-06-01   \n",
       "41349    4500829.0         2020-06-30      2.0    2020-06-01   \n",
       "\n",
       "      first_payment_month  payment_method_id  total_transactions  \\\n",
       "0              2020-03-01                3.0                 2.0   \n",
       "1              2020-03-01                3.0                 3.0   \n",
       "2              2020-03-01                3.0                 2.0   \n",
       "3              2020-03-01                3.0                 4.0   \n",
       "4              2020-03-01                3.0                 4.0   \n",
       "...                   ...                ...                 ...   \n",
       "41345          2020-06-01                3.0                 2.0   \n",
       "41346          2020-06-01                3.0                 2.0   \n",
       "41347          2020-06-01                3.0                 3.0   \n",
       "41348          2020-06-01                3.0                 1.0   \n",
       "41349          2020-06-01                3.0                 1.0   \n",
       "\n",
       "       total_volume  fixed_rate  variable_rate  fixed_rate_comission  \\\n",
       "0            112.17        0.29            0.0                  0.58   \n",
       "1            236.86        0.29            0.0                  0.87   \n",
       "2            100.13        0.29            0.0                  0.58   \n",
       "3             20.88        0.29            0.0                  1.16   \n",
       "4             48.40        0.29            0.0                  1.16   \n",
       "...             ...         ...            ...                   ...   \n",
       "41345         33.70        0.29            0.0                  0.58   \n",
       "41346          2.01        0.29            0.0                  0.58   \n",
       "41347         26.95        0.29            0.0                  0.87   \n",
       "41348        210.00        0.29            0.0                  0.29   \n",
       "41349          9.49        0.29            0.0                  0.29   \n",
       "\n",
       "       variable_rate_comission  total_comission  \n",
       "0                          0.0             0.58  \n",
       "1                          0.0             0.87  \n",
       "2                          0.0             0.58  \n",
       "3                          0.0             1.16  \n",
       "4                          0.0             1.16  \n",
       "...                        ...              ...  \n",
       "41345                      0.0             0.58  \n",
       "41346                      0.0             0.58  \n",
       "41347                      0.0             0.87  \n",
       "41348                      0.0             0.29  \n",
       "41349                      0.0             0.29  \n",
       "\n",
       "[41350 rows x 13 columns]"
      ]
     },
     "execution_count": 89,
     "metadata": {},
     "output_type": "execute_result"
    }
   ],
   "source": [
    "df_org = pd.read_csv('./datasets/organizations.csv', parse_dates=['first_payment_date'])\n",
    "df_methods = pd.read_csv('./datasets/payment_methods.csv')\n",
    "df_payments = pd.read_csv('./datasets/payments.csv', parse_dates=['payment_month'])\n",
    "\n",
    "dates = (df_payments.payment_month.min(), df_payments.payment_month.max())\n",
    "\n",
    "df = (\n",
    "    pd.merge(\n",
    "        df_org, \n",
    "        (\n",
    "            pd.date_range(start=dates[0], end=dates[1], freq='MS')\n",
    "            .to_frame(index=False, name='payment_month')\n",
    "        ), \n",
    "        how='cross'\n",
    "    )\n",
    "    .assign(\n",
    "        first_payment_month= lambda x: x['first_payment_date'].dt.to_period('M').dt.to_timestamp()\n",
    "    )\n",
    "    .where(lambda x: x['payment_month'] >= x['first_payment_month'])\n",
    "    .dropna()\n",
    "    .merge(df_payments, on=['customer_id', 'payment_month'], how='left')\n",
    ")\n",
    "\n",
    "# Adding additional information for payment methods\n",
    "df = (\n",
    "    df\n",
    "    .merge(df_methods, on='payment_method_id', how='left')\n",
    "    .assign(\n",
    "        fixed_rate_comission=lambda x: x['total_transactions'] * x['fixed_rate'],\n",
    "        variable_rate_comission=lambda x: x['total_volume'] * x['variable_rate'],\n",
    "        total_comission=lambda x: x['fixed_rate_comission'] + x['variable_rate_comission']\n",
    "    )\n",
    ")\n",
    "\n",
    "n_a_fill_cols = [\n",
    "    x for x in df.columns if x not in ['first_payment_date', 'payment_month', 'payment_method_id', 'customer_id']\n",
    "]\n",
    "\n",
    "df[n_a_fill_cols] = df[n_a_fill_cols].fillna(0)\n",
    "\n",
    "df"
   ]
  },
  {
   "cell_type": "code",
   "execution_count": 90,
   "metadata": {},
   "outputs": [
    {
     "data": {
      "text/plain": [
       "count    41350.000000\n",
       "mean        10.203061\n",
       "std        118.953301\n",
       "min          0.000000\n",
       "25%          0.000000\n",
       "50%          0.580000\n",
       "75%          2.610000\n",
       "max       9387.300000\n",
       "Name: total_comission, dtype: float64"
      ]
     },
     "execution_count": 90,
     "metadata": {},
     "output_type": "execute_result"
    }
   ],
   "source": [
    "df.total_comission.describe()"
   ]
  },
  {
   "cell_type": "code",
   "execution_count": 92,
   "metadata": {},
   "outputs": [],
   "source": [
    "# Some quick checks to verify the join results\n",
    "assert df.customer_id.nunique() == df_org.customer_id.nunique()\n",
    "assert df.payment_month.unique().sort() == df_payments.payment_month.unique().sort()"
   ]
  }
 ],
 "metadata": {
  "kernelspec": {
   "display_name": "base",
   "language": "python",
   "name": "python3"
  },
  "language_info": {
   "codemirror_mode": {
    "name": "ipython",
    "version": 3
   },
   "file_extension": ".py",
   "mimetype": "text/x-python",
   "name": "python",
   "nbconvert_exporter": "python",
   "pygments_lexer": "ipython3",
   "version": "3.9.13"
  }
 },
 "nbformat": 4,
 "nbformat_minor": 2
}
