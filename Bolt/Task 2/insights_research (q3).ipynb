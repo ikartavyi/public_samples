{
 "cells": [
  {
   "cell_type": "markdown",
   "metadata": {},
   "source": [
    "# Importing data"
   ]
  },
  {
   "cell_type": "code",
   "execution_count": 1,
   "metadata": {},
   "outputs": [
    {
     "data": {
      "text/html": [
       "<svg  width=\"275\" height=\"55\"><rect x=\"0\" y=\"0\" width=\"55\" height=\"55\" style=\"fill:#54aead;stroke-width:2;stroke:rgb(255,255,255)\"/><rect x=\"55\" y=\"0\" width=\"55\" height=\"55\" style=\"fill:#bfe5a0;stroke-width:2;stroke:rgb(255,255,255)\"/><rect x=\"110\" y=\"0\" width=\"55\" height=\"55\" style=\"fill:#ffffbe;stroke-width:2;stroke:rgb(255,255,255)\"/><rect x=\"165\" y=\"0\" width=\"55\" height=\"55\" style=\"fill:#fdbf6f;stroke-width:2;stroke:rgb(255,255,255)\"/><rect x=\"220\" y=\"0\" width=\"55\" height=\"55\" style=\"fill:#e95c47;stroke-width:2;stroke:rgb(255,255,255)\"/></svg>"
      ],
      "text/plain": [
       "[(0.3280276816608997, 0.6805074971164936, 0.6802768166089965),\n",
       " (0.7477124183006538, 0.8980392156862746, 0.6274509803921569),\n",
       " (0.998077662437524, 0.9992310649750096, 0.7460207612456747),\n",
       " (0.9934640522875817, 0.7477124183006535, 0.4352941176470587),\n",
       " (0.9139561707035756, 0.36239907727797, 0.27935409457900806)]"
      ]
     },
     "execution_count": 1,
     "metadata": {},
     "output_type": "execute_result"
    }
   ],
   "source": [
    "import pandas as pd\n",
    "import numpy as np\n",
    "import matplotlib.pyplot as plt\n",
    "import seaborn as sns\n",
    "import datetime as dt\n",
    "import re\n",
    "\n",
    "# Setting style parameters\n",
    "palette = sns.color_palette('Spectral', 5)\n",
    "palette.reverse()\n",
    "sns.set_theme(style='white', palette=palette)\n",
    "\n",
    "df_initial_data = pd.read_excel('./data_sources/Dataset Task 2.xlsx', sheet_name='Data')\n",
    "\n",
    "palette"
   ]
  },
  {
   "cell_type": "code",
   "execution_count": 2,
   "metadata": {},
   "outputs": [],
   "source": [
    "def clean_df(df):\n",
    "    def clean_text(string):\n",
    "        # Remove all characters that are not letters, numbers, or spaces\n",
    "        cleaned_string = re.sub(r'[^\\s\\sA-Za-z0-9_\\.]+', '', string)\n",
    "        # Strip leading and trailing spaces and tabulations\n",
    "        cleaned_string = cleaned_string.strip()\n",
    "        cleaned_string = cleaned_string.capitalize()\n",
    "        return cleaned_string\n",
    "\n",
    "    def clean_column_name(name):\n",
    "        # Delete all info in brackets and replace spaces with underscores\n",
    "        name_no_brackets = re.sub(r'\\[.*?\\]', '', name)\n",
    "        name_num_corrected = re.sub(r'#', 'num', name_no_brackets)\n",
    "        name_normalized = re.sub(r'\\s+', '_', name_num_corrected)\n",
    "        # Apply clean_text to the column name\n",
    "        cleaned_name = clean_text(name_normalized)\n",
    "        # Ensure lowercase for consistency\n",
    "        return cleaned_name.lower()\n",
    "\n",
    "    # Clean and normalize column names first\n",
    "    df.columns = [clean_column_name(col) for col in df.columns]\n",
    "\n",
    "    for col in df.columns:\n",
    "        # Determine if the column is string type\n",
    "        if df[col].dtype == 'object':\n",
    "            # Replace null values with empty string for string columns\n",
    "            df[col] = df[col].fillna('')\n",
    "            df[col] = df[col].apply(lambda x: clean_text(x) if isinstance(x, str) else x)\n",
    "        else:\n",
    "            # Determine if the column is numerical (float or int)\n",
    "            if np.issubdtype(df[col].dtype, np.number):\n",
    "                # Replace null values with 0 for numerical columns\n",
    "                df[col] = df[col].fillna(0)\n",
    "                \n",
    "    return df\n",
    "\n",
    "df_clean = clean_df(df_initial_data.copy())"
   ]
  },
  {
   "cell_type": "code",
   "execution_count": 3,
   "metadata": {},
   "outputs": [
    {
     "data": {
      "text/html": [
       "<div>\n",
       "<style scoped>\n",
       "    .dataframe tbody tr th:only-of-type {\n",
       "        vertical-align: middle;\n",
       "    }\n",
       "\n",
       "    .dataframe tbody tr th {\n",
       "        vertical-align: top;\n",
       "    }\n",
       "\n",
       "    .dataframe thead th {\n",
       "        text-align: right;\n",
       "    }\n",
       "</style>\n",
       "<table border=\"1\" class=\"dataframe\">\n",
       "  <thead>\n",
       "    <tr style=\"text-align: right;\">\n",
       "      <th></th>\n",
       "      <th>date</th>\n",
       "      <th>day_name</th>\n",
       "      <th>weekday</th>\n",
       "      <th>month_number</th>\n",
       "    </tr>\n",
       "  </thead>\n",
       "  <tbody>\n",
       "    <tr>\n",
       "      <th>0</th>\n",
       "      <td>2020-02-28</td>\n",
       "      <td>Friday</td>\n",
       "      <td>5</td>\n",
       "      <td>2</td>\n",
       "    </tr>\n",
       "    <tr>\n",
       "      <th>1</th>\n",
       "      <td>2020-02-28</td>\n",
       "      <td>Friday</td>\n",
       "      <td>5</td>\n",
       "      <td>2</td>\n",
       "    </tr>\n",
       "    <tr>\n",
       "      <th>2</th>\n",
       "      <td>2020-02-28</td>\n",
       "      <td>Friday</td>\n",
       "      <td>5</td>\n",
       "      <td>2</td>\n",
       "    </tr>\n",
       "    <tr>\n",
       "      <th>3</th>\n",
       "      <td>2020-02-28</td>\n",
       "      <td>Friday</td>\n",
       "      <td>5</td>\n",
       "      <td>2</td>\n",
       "    </tr>\n",
       "  </tbody>\n",
       "</table>\n",
       "</div>"
      ],
      "text/plain": [
       "        date day_name  weekday  month_number\n",
       "0 2020-02-28   Friday        5             2\n",
       "1 2020-02-28   Friday        5             2\n",
       "2 2020-02-28   Friday        5             2\n",
       "3 2020-02-28   Friday        5             2"
      ]
     },
     "execution_count": 3,
     "metadata": {},
     "output_type": "execute_result"
    }
   ],
   "source": [
    "# Adding weekday column to the dataframe to analyse dynamics of sales by week days.\n",
    "df_clean['date'] = pd.to_datetime(df_clean['created_date'], infer_datetime_format=True)\n",
    "df_clean['day_name'] = df_clean['date'].dt.day_name()\n",
    "df_clean['weekday'] = df_clean['date'].dt.dayofweek + 1\n",
    "df_clean['day_of_month'] = df_clean['date'].dt.day\n",
    "df_clean['month_number'] = df_clean['date'].dt.month\n",
    "df_clean[['date', 'day_name', 'weekday', 'month_number']].head(4)"
   ]
  },
  {
   "cell_type": "code",
   "execution_count": 4,
   "metadata": {},
   "outputs": [
    {
     "data": {
      "text/plain": [
       "['cancel_reason',\n",
       " 'card_issuer',\n",
       " 'city',\n",
       " 'country',\n",
       " 'created_date',\n",
       " 'cuisine',\n",
       " 'date',\n",
       " 'day_name',\n",
       " 'day_of_month',\n",
       " 'delivery_fee',\n",
       " 'delivery_time',\n",
       " 'month_number',\n",
       " 'order_state',\n",
       " 'order_value__gross',\n",
       " 'payment_method',\n",
       " 'platform',\n",
       " 'products_in_order',\n",
       " 'restaurant_id',\n",
       " 'restaurant_name',\n",
       " 'weekday']"
      ]
     },
     "execution_count": 4,
     "metadata": {},
     "output_type": "execute_result"
    }
   ],
   "source": [
    "sorted(df_clean.columns)"
   ]
  },
  {
   "cell_type": "code",
   "execution_count": 5,
   "metadata": {},
   "outputs": [
    {
     "data": {
      "text/plain": [
       "(97936, 99618)"
      ]
     },
     "execution_count": 5,
     "metadata": {},
     "output_type": "execute_result"
    }
   ],
   "source": [
    "df_done = df_clean[df_clean.order_state == 'Delivered']\n",
    "\n",
    "df_done.count()[0], df_clean.count()[0]"
   ]
  },
  {
   "cell_type": "markdown",
   "metadata": {},
   "source": [
    "# Research"
   ]
  },
  {
   "cell_type": "markdown",
   "metadata": {},
   "source": [
    "## Values distribution\n",
    "Let's quickly check how the values are distributed within various dimensions."
   ]
  },
  {
   "cell_type": "code",
   "execution_count": 6,
   "metadata": {},
   "outputs": [
    {
     "name": "stdout",
     "output_type": "stream",
     "text": [
      "Portugal\n",
      "Ghana\n"
     ]
    }
   ],
   "source": [
    "for c in df_clean.country.unique():\n",
    "    print(c)"
   ]
  },
  {
   "cell_type": "code",
   "execution_count": 7,
   "metadata": {},
   "outputs": [
    {
     "data": {
      "text/plain": [
       "array(['Delivered', 'Failed', 'Rejected'], dtype=object)"
      ]
     },
     "execution_count": 7,
     "metadata": {},
     "output_type": "execute_result"
    }
   ],
   "source": [
    "df_clean.order_state.unique()"
   ]
  },
  {
   "cell_type": "code",
   "execution_count": 8,
   "metadata": {},
   "outputs": [
    {
     "name": "stdout",
     "output_type": "stream",
     "text": [
      "Portugal\n"
     ]
    },
    {
     "data": {
      "text/html": [
       "<div>\n",
       "<style scoped>\n",
       "    .dataframe tbody tr th:only-of-type {\n",
       "        vertical-align: middle;\n",
       "    }\n",
       "\n",
       "    .dataframe tbody tr th {\n",
       "        vertical-align: top;\n",
       "    }\n",
       "\n",
       "    .dataframe thead th {\n",
       "        text-align: right;\n",
       "    }\n",
       "</style>\n",
       "<table border=\"1\" class=\"dataframe\">\n",
       "  <thead>\n",
       "    <tr style=\"text-align: right;\">\n",
       "      <th></th>\n",
       "      <th>cancellations</th>\n",
       "      <th>total</th>\n",
       "      <th>share</th>\n",
       "    </tr>\n",
       "    <tr>\n",
       "      <th>cancel_reason</th>\n",
       "      <th></th>\n",
       "      <th></th>\n",
       "      <th></th>\n",
       "    </tr>\n",
       "  </thead>\n",
       "  <tbody>\n",
       "    <tr>\n",
       "      <th>Could not find a courier to deliver the order</th>\n",
       "      <td>206</td>\n",
       "      <td>901</td>\n",
       "      <td>23%</td>\n",
       "    </tr>\n",
       "    <tr>\n",
       "      <th>The restaurant asked customer support to fail the order</th>\n",
       "      <td>50</td>\n",
       "      <td>901</td>\n",
       "      <td>6%</td>\n",
       "    </tr>\n",
       "    <tr>\n",
       "      <th>The restaurant rejected the order</th>\n",
       "      <td>628</td>\n",
       "      <td>901</td>\n",
       "      <td>70%</td>\n",
       "    </tr>\n",
       "    <tr>\n",
       "      <th>User cancellation</th>\n",
       "      <td>17</td>\n",
       "      <td>901</td>\n",
       "      <td>2%</td>\n",
       "    </tr>\n",
       "  </tbody>\n",
       "</table>\n",
       "</div>"
      ],
      "text/plain": [
       "                                                    cancellations  total share\n",
       "cancel_reason                                                                 \n",
       "Could not find a courier to deliver the order                 206    901   23%\n",
       "The restaurant asked customer support to fail t...             50    901    6%\n",
       "The restaurant rejected the order                             628    901   70%\n",
       "User cancellation                                              17    901    2%"
      ]
     },
     "metadata": {},
     "output_type": "display_data"
    },
    {
     "name": "stdout",
     "output_type": "stream",
     "text": [
      "\n",
      "Ghana\n"
     ]
    },
    {
     "data": {
      "text/html": [
       "<div>\n",
       "<style scoped>\n",
       "    .dataframe tbody tr th:only-of-type {\n",
       "        vertical-align: middle;\n",
       "    }\n",
       "\n",
       "    .dataframe tbody tr th {\n",
       "        vertical-align: top;\n",
       "    }\n",
       "\n",
       "    .dataframe thead th {\n",
       "        text-align: right;\n",
       "    }\n",
       "</style>\n",
       "<table border=\"1\" class=\"dataframe\">\n",
       "  <thead>\n",
       "    <tr style=\"text-align: right;\">\n",
       "      <th></th>\n",
       "      <th>cancellations</th>\n",
       "      <th>total</th>\n",
       "      <th>share</th>\n",
       "    </tr>\n",
       "    <tr>\n",
       "      <th>cancel_reason</th>\n",
       "      <th></th>\n",
       "      <th></th>\n",
       "      <th></th>\n",
       "    </tr>\n",
       "  </thead>\n",
       "  <tbody>\n",
       "    <tr>\n",
       "      <th>Could not find a courier to deliver the order</th>\n",
       "      <td>146</td>\n",
       "      <td>781</td>\n",
       "      <td>19%</td>\n",
       "    </tr>\n",
       "    <tr>\n",
       "      <th>The restaurant asked customer support to fail the order</th>\n",
       "      <td>251</td>\n",
       "      <td>781</td>\n",
       "      <td>32%</td>\n",
       "    </tr>\n",
       "    <tr>\n",
       "      <th>The restaurant rejected the order</th>\n",
       "      <td>349</td>\n",
       "      <td>781</td>\n",
       "      <td>45%</td>\n",
       "    </tr>\n",
       "    <tr>\n",
       "      <th>User cancellation</th>\n",
       "      <td>35</td>\n",
       "      <td>781</td>\n",
       "      <td>4%</td>\n",
       "    </tr>\n",
       "  </tbody>\n",
       "</table>\n",
       "</div>"
      ],
      "text/plain": [
       "                                                    cancellations  total share\n",
       "cancel_reason                                                                 \n",
       "Could not find a courier to deliver the order                 146    781   19%\n",
       "The restaurant asked customer support to fail t...            251    781   32%\n",
       "The restaurant rejected the order                             349    781   45%\n",
       "User cancellation                                              35    781    4%"
      ]
     },
     "metadata": {},
     "output_type": "display_data"
    },
    {
     "name": "stdout",
     "output_type": "stream",
     "text": [
      "\n"
     ]
    }
   ],
   "source": [
    "df = df_clean[df_clean.order_state != 'Delivered']\n",
    "\n",
    "# Checking how orders are distributed within the reasons for both countries.\n",
    "for c in df.country.unique():\n",
    "    print(c)\n",
    "    \n",
    "    df_country = df[df.country == c]\n",
    "    total = df_country.count()[0]\n",
    "\n",
    "    display(\n",
    "        df_country\n",
    "        .groupby('cancel_reason')\n",
    "        .agg(cancellations=('date','count'))\n",
    "        .assign(total=total)\n",
    "        .assign(share=lambda x: (x['cancellations']/x['total']*100).round(0).astype(int).astype(str) + '%')\n",
    "    )\n",
    "    print()"
   ]
  },
  {
   "cell_type": "markdown",
   "metadata": {},
   "source": [
    "Ok, fine. In Ghana there are way more cases when restaurant asks customer support to cancel the order. This might affect rating calculation for restaurants and also the customer experience. Do we have specific cases that makes that difference?"
   ]
  },
  {
   "cell_type": "code",
   "execution_count": 9,
   "metadata": {},
   "outputs": [
    {
     "data": {
      "text/html": [
       "<div>\n",
       "<style scoped>\n",
       "    .dataframe tbody tr th:only-of-type {\n",
       "        vertical-align: middle;\n",
       "    }\n",
       "\n",
       "    .dataframe tbody tr th {\n",
       "        vertical-align: top;\n",
       "    }\n",
       "\n",
       "    .dataframe thead th {\n",
       "        text-align: right;\n",
       "    }\n",
       "</style>\n",
       "<table border=\"1\" class=\"dataframe\">\n",
       "  <thead>\n",
       "    <tr style=\"text-align: right;\">\n",
       "      <th></th>\n",
       "      <th></th>\n",
       "      <th>orders</th>\n",
       "      <th>cancelled</th>\n",
       "      <th>asked_to_cancel</th>\n",
       "      <th>share</th>\n",
       "      <th>orders_share</th>\n",
       "      <th>mean_share</th>\n",
       "    </tr>\n",
       "    <tr>\n",
       "      <th>restaurant_id</th>\n",
       "      <th>restaurant_name</th>\n",
       "      <th></th>\n",
       "      <th></th>\n",
       "      <th></th>\n",
       "      <th></th>\n",
       "      <th></th>\n",
       "      <th></th>\n",
       "    </tr>\n",
       "  </thead>\n",
       "  <tbody>\n",
       "    <tr>\n",
       "      <th>9624</th>\n",
       "      <th>Kfc north industrial</th>\n",
       "      <td>703</td>\n",
       "      <td>47</td>\n",
       "      <td>16</td>\n",
       "      <td>34.042553</td>\n",
       "      <td>4.974526</td>\n",
       "      <td>31.326011</td>\n",
       "    </tr>\n",
       "    <tr>\n",
       "      <th>9625</th>\n",
       "      <th>Kfc marina mall</th>\n",
       "      <td>590</td>\n",
       "      <td>44</td>\n",
       "      <td>14</td>\n",
       "      <td>31.818182</td>\n",
       "      <td>4.174922</td>\n",
       "      <td>31.326011</td>\n",
       "    </tr>\n",
       "    <tr>\n",
       "      <th>9626</th>\n",
       "      <th>Kfc east legon</th>\n",
       "      <td>578</td>\n",
       "      <td>46</td>\n",
       "      <td>23</td>\n",
       "      <td>50.000000</td>\n",
       "      <td>4.090008</td>\n",
       "      <td>31.326011</td>\n",
       "    </tr>\n",
       "    <tr>\n",
       "      <th>9627</th>\n",
       "      <th>Kfc  circle</th>\n",
       "      <td>567</td>\n",
       "      <td>44</td>\n",
       "      <td>17</td>\n",
       "      <td>38.636364</td>\n",
       "      <td>4.012171</td>\n",
       "      <td>31.326011</td>\n",
       "    </tr>\n",
       "  </tbody>\n",
       "</table>\n",
       "</div>"
      ],
      "text/plain": [
       "                                    orders  cancelled  asked_to_cancel  \\\n",
       "restaurant_id restaurant_name                                            \n",
       "9624          Kfc north industrial     703         47               16   \n",
       "9625          Kfc marina mall          590         44               14   \n",
       "9626          Kfc east legon           578         46               23   \n",
       "9627          Kfc  circle              567         44               17   \n",
       "\n",
       "                                        share  orders_share  mean_share  \n",
       "restaurant_id restaurant_name                                            \n",
       "9624          Kfc north industrial  34.042553      4.974526   31.326011  \n",
       "9625          Kfc marina mall       31.818182      4.174922   31.326011  \n",
       "9626          Kfc east legon        50.000000      4.090008   31.326011  \n",
       "9627          Kfc  circle           38.636364      4.012171   31.326011  "
      ]
     },
     "metadata": {},
     "output_type": "display_data"
    }
   ],
   "source": [
    "df = df_clean[\n",
    "    (df_clean.country == 'Ghana')\n",
    "].copy()\n",
    "\n",
    "total = df.count()[0]\n",
    "df['cancelled_order'] = df.apply(lambda x: 1 if x['order_state']!='Delivered' else 0, axis=1)\n",
    "df['orders'] = 1\n",
    "df['asked_to_cancel'] = df.apply(lambda x: 1 if x['cancel_reason'] == 'The restaurant asked customer support to fail the order' else 0, axis=1)\n",
    "\n",
    "df_res = (\n",
    "    df\n",
    "    .groupby(\n",
    "        ['restaurant_id',\n",
    "        'restaurant_name']\n",
    "    )\n",
    "    .agg(\n",
    "        orders=('orders', 'sum'),\n",
    "        cancelled=('cancelled_order', 'sum'),\n",
    "        asked_to_cancel=('asked_to_cancel', 'sum')\n",
    "    )\n",
    "    .sort_values('orders', ascending=False)\n",
    ")\n",
    "\n",
    "df_res['share'] = df_res['asked_to_cancel']/df_res['cancelled']*100\n",
    "df_res['orders_share'] = df_res['orders']/total*100\n",
    "df_res['mean_share'] = df_res['share'].mean()\n",
    "\n",
    "display(\n",
    "    df_res[\n",
    "        (df_res.share > df_res.mean_share)\n",
    "        & (df_res.orders_share > 3)\n",
    "    ]\n",
    ")\n",
    "\n"
   ]
  },
  {
   "cell_type": "code",
   "execution_count": 10,
   "metadata": {},
   "outputs": [
    {
     "data": {
      "text/plain": [
       "<matplotlib.legend.Legend at 0x207733b08b0>"
      ]
     },
     "execution_count": 10,
     "metadata": {},
     "output_type": "execute_result"
    },
    {
     "data": {
      "image/png": "[encoded data removed]",
      "text/plain": [
       "<Figure size 800x600 with 1 Axes>"
      ]
     },
     "metadata": {},
     "output_type": "display_data"
    }
   ],
   "source": [
    "plt.figure(figsize=(8,6))\n",
    "plt.scatter(\n",
    "    df_res.orders,\n",
    "    df_res.cancelled,\n",
    "    df_res.asked_to_cancel*10,\n",
    "    label='Asked customer support to fail the order'\n",
    ")\n",
    "plt.xlabel('Orders')\n",
    "plt.ylabel('Cancelled orders')\n",
    "plt.legend()"
   ]
  },
  {
   "cell_type": "markdown",
   "metadata": {},
   "source": [
    "This analysis reveals that the number of these cases increases as a restaurant receives more orders. While there are a few outliers from this trend, it remains a common practice in this market. Therefore, the next step is to engage with the market to gather more information about why this happens and how we can either mitigate this issue or adjust our scoring and recommendations systems to accommodate this market dynamic."
   ]
  }
 ],
 "metadata": {
  "kernelspec": {
   "display_name": "base",
   "language": "python",
   "name": "python3"
  },
  "language_info": {
   "codemirror_mode": {
    "name": "ipython",
    "version": 3
   },
   "file_extension": ".py",
   "mimetype": "text/x-python",
   "name": "python",
   "nbconvert_exporter": "python",
   "pygments_lexer": "ipython3",
   "version": "3.9.13"
  }
 },
 "nbformat": 4,
 "nbformat_minor": 2
}
