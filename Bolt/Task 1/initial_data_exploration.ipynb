{
 "cells": [
  {
   "cell_type": "markdown",
   "metadata": {},
   "source": [
    "# Importing data\n",
    "Importing the cleaned and mapped data from _data_import_and_cleaning plus providing with a quick dfs' overview."
   ]
  },
  {
   "cell_type": "code",
   "execution_count": 1,
   "metadata": {},
   "outputs": [],
   "source": [
    "from _data_import_and_cleaning import *"
   ]
  },
  {
   "cell_type": "code",
   "execution_count": 2,
   "metadata": {},
   "outputs": [
    {
     "data": {
      "text/html": [
       "<div>\n",
       "<style scoped>\n",
       "    .dataframe tbody tr th:only-of-type {\n",
       "        vertical-align: middle;\n",
       "    }\n",
       "\n",
       "    .dataframe tbody tr th {\n",
       "        vertical-align: top;\n",
       "    }\n",
       "\n",
       "    .dataframe thead th {\n",
       "        text-align: right;\n",
       "    }\n",
       "</style>\n",
       "<table border=\"1\" class=\"dataframe\">\n",
       "  <thead>\n",
       "    <tr style=\"text-align: right;\">\n",
       "      <th></th>\n",
       "      <th>Time</th>\n",
       "      <th>Category level 0</th>\n",
       "      <th>Category level 1</th>\n",
       "      <th>Category level 2</th>\n",
       "      <th>Unique SKUs Listed</th>\n",
       "      <th>Unique SKUs Sold</th>\n",
       "      <th># of sold SKU items</th>\n",
       "      <th>Price before Discount (includ. VAT) (EUR)</th>\n",
       "      <th>Discount Value (EUR)</th>\n",
       "      <th>Item COGS (net VAT) (EUR)</th>\n",
       "      <th>Waste, # of items</th>\n",
       "    </tr>\n",
       "  </thead>\n",
       "  <tbody>\n",
       "    <tr>\n",
       "      <th>0</th>\n",
       "      <td>2023-09-17</td>\n",
       "      <td>Fresh Food</td>\n",
       "      <td>🧀 Cheese</td>\n",
       "      <td>Hard Cheese</td>\n",
       "      <td>26</td>\n",
       "      <td>17</td>\n",
       "      <td>37</td>\n",
       "      <td>135.812592</td>\n",
       "      <td>10.491467</td>\n",
       "      <td>88.81738</td>\n",
       "      <td>0</td>\n",
       "    </tr>\n",
       "    <tr>\n",
       "      <th>1</th>\n",
       "      <td>2023-08-02</td>\n",
       "      <td>Fresh Food</td>\n",
       "      <td>🍞 Bakery</td>\n",
       "      <td>Gluten Free</td>\n",
       "      <td>1</td>\n",
       "      <td>0</td>\n",
       "      <td>0</td>\n",
       "      <td>0.000000</td>\n",
       "      <td>0.000000</td>\n",
       "      <td>0.00000</td>\n",
       "      <td>0</td>\n",
       "    </tr>\n",
       "    <tr>\n",
       "      <th>2</th>\n",
       "      <td>2023-08-26</td>\n",
       "      <td>Fresh Food</td>\n",
       "      <td>🥛 Dairy &amp; Eggs</td>\n",
       "      <td>Sour Cream &amp; Cream</td>\n",
       "      <td>14</td>\n",
       "      <td>10</td>\n",
       "      <td>26</td>\n",
       "      <td>53.454514</td>\n",
       "      <td>3.213313</td>\n",
       "      <td>31.87778</td>\n",
       "      <td>0</td>\n",
       "    </tr>\n",
       "    <tr>\n",
       "      <th>3</th>\n",
       "      <td>2023-09-24</td>\n",
       "      <td>Fresh Food</td>\n",
       "      <td>🥪 Fresh &amp; Ready</td>\n",
       "      <td>Desserts &amp; Sweets</td>\n",
       "      <td>25</td>\n",
       "      <td>13</td>\n",
       "      <td>47</td>\n",
       "      <td>61.698558</td>\n",
       "      <td>3.516517</td>\n",
       "      <td>41.22566</td>\n",
       "      <td>0</td>\n",
       "    </tr>\n",
       "    <tr>\n",
       "      <th>4</th>\n",
       "      <td>2023-09-15</td>\n",
       "      <td>Fresh Food</td>\n",
       "      <td>🍗 Meat &amp; Fish</td>\n",
       "      <td>Meat &amp; Fish Alternatives</td>\n",
       "      <td>17</td>\n",
       "      <td>3</td>\n",
       "      <td>8</td>\n",
       "      <td>13.061563</td>\n",
       "      <td>1.358066</td>\n",
       "      <td>8.68154</td>\n",
       "      <td>0</td>\n",
       "    </tr>\n",
       "  </tbody>\n",
       "</table>\n",
       "</div>"
      ],
      "text/plain": [
       "        Time Category level 0 Category level 1          Category level 2  \\\n",
       "0 2023-09-17       Fresh Food         🧀 Cheese               Hard Cheese   \n",
       "1 2023-08-02       Fresh Food         🍞 Bakery               Gluten Free   \n",
       "2 2023-08-26       Fresh Food   🥛 Dairy & Eggs        Sour Cream & Cream   \n",
       "3 2023-09-24       Fresh Food  🥪 Fresh & Ready         Desserts & Sweets   \n",
       "4 2023-09-15       Fresh Food    🍗 Meat & Fish  Meat & Fish Alternatives   \n",
       "\n",
       "   Unique SKUs Listed  Unique SKUs Sold  # of sold SKU items  \\\n",
       "0                  26                17                   37   \n",
       "1                   1                 0                    0   \n",
       "2                  14                10                   26   \n",
       "3                  25                13                   47   \n",
       "4                  17                 3                    8   \n",
       "\n",
       "   Price before Discount (includ. VAT) (EUR)  Discount Value (EUR)  \\\n",
       "0                                 135.812592             10.491467   \n",
       "1                                   0.000000              0.000000   \n",
       "2                                  53.454514              3.213313   \n",
       "3                                  61.698558              3.516517   \n",
       "4                                  13.061563              1.358066   \n",
       "\n",
       "   Item COGS (net VAT) (EUR)  Waste, # of items  \n",
       "0                   88.81738                  0  \n",
       "1                    0.00000                  0  \n",
       "2                   31.87778                  0  \n",
       "3                   41.22566                  0  \n",
       "4                    8.68154                  0  "
      ]
     },
     "execution_count": 2,
     "metadata": {},
     "output_type": "execute_result"
    }
   ],
   "source": [
    "df_initial_data.head() "
   ]
  },
  {
   "cell_type": "code",
   "execution_count": 3,
   "metadata": {},
   "outputs": [
    {
     "name": "stdout",
     "output_type": "stream",
     "text": [
      "17401\n"
     ]
    },
    {
     "data": {
      "text/html": [
       "<div>\n",
       "<style scoped>\n",
       "    .dataframe tbody tr th:only-of-type {\n",
       "        vertical-align: middle;\n",
       "    }\n",
       "\n",
       "    .dataframe tbody tr th {\n",
       "        vertical-align: top;\n",
       "    }\n",
       "\n",
       "    .dataframe thead th {\n",
       "        text-align: right;\n",
       "    }\n",
       "</style>\n",
       "<table border=\"1\" class=\"dataframe\">\n",
       "  <thead>\n",
       "    <tr style=\"text-align: right;\">\n",
       "      <th></th>\n",
       "      <th>time</th>\n",
       "      <th>category_level_0</th>\n",
       "      <th>category_level_1</th>\n",
       "      <th>category_level_2</th>\n",
       "      <th>unique_skus_listed</th>\n",
       "      <th>unique_skus_sold</th>\n",
       "      <th>num_of_sold_sku_items</th>\n",
       "      <th>price_before_discount_includ_vat_eur</th>\n",
       "      <th>discount_value_eur</th>\n",
       "      <th>item_cogs_net_vat_eur</th>\n",
       "      <th>waste_num_of_items</th>\n",
       "      <th>date</th>\n",
       "      <th>day_name</th>\n",
       "      <th>weekday</th>\n",
       "      <th>day_of_month</th>\n",
       "      <th>revenue_before_discount</th>\n",
       "      <th>revenue_after_discount</th>\n",
       "      <th>profit_before_waste</th>\n",
       "      <th>waste_cogs</th>\n",
       "      <th>profit_after_waste</th>\n",
       "    </tr>\n",
       "  </thead>\n",
       "  <tbody>\n",
       "    <tr>\n",
       "      <th>0</th>\n",
       "      <td>2023-09-17</td>\n",
       "      <td>Fresh food</td>\n",
       "      <td>Cheese</td>\n",
       "      <td>Hard cheese</td>\n",
       "      <td>26</td>\n",
       "      <td>17</td>\n",
       "      <td>37</td>\n",
       "      <td>135.812592</td>\n",
       "      <td>10.491467</td>\n",
       "      <td>88.81738</td>\n",
       "      <td>0</td>\n",
       "      <td>2023-09-17</td>\n",
       "      <td>Sunday</td>\n",
       "      <td>7</td>\n",
       "      <td>17</td>\n",
       "      <td>5025.065904</td>\n",
       "      <td>4636.881625</td>\n",
       "      <td>1350.638565</td>\n",
       "      <td>0.0</td>\n",
       "      <td>1350.638565</td>\n",
       "    </tr>\n",
       "    <tr>\n",
       "      <th>1</th>\n",
       "      <td>2023-08-02</td>\n",
       "      <td>Fresh food</td>\n",
       "      <td>Bakery</td>\n",
       "      <td>Gluten free</td>\n",
       "      <td>1</td>\n",
       "      <td>0</td>\n",
       "      <td>0</td>\n",
       "      <td>0.000000</td>\n",
       "      <td>0.000000</td>\n",
       "      <td>0.00000</td>\n",
       "      <td>0</td>\n",
       "      <td>2023-08-02</td>\n",
       "      <td>Wednesday</td>\n",
       "      <td>3</td>\n",
       "      <td>2</td>\n",
       "      <td>0.000000</td>\n",
       "      <td>0.000000</td>\n",
       "      <td>0.000000</td>\n",
       "      <td>0.0</td>\n",
       "      <td>0.000000</td>\n",
       "    </tr>\n",
       "    <tr>\n",
       "      <th>2</th>\n",
       "      <td>2023-08-26</td>\n",
       "      <td>Fresh food</td>\n",
       "      <td>Dairy  eggs</td>\n",
       "      <td>Sour cream  cream</td>\n",
       "      <td>14</td>\n",
       "      <td>10</td>\n",
       "      <td>26</td>\n",
       "      <td>53.454514</td>\n",
       "      <td>3.213313</td>\n",
       "      <td>31.87778</td>\n",
       "      <td>0</td>\n",
       "      <td>2023-08-26</td>\n",
       "      <td>Saturday</td>\n",
       "      <td>6</td>\n",
       "      <td>26</td>\n",
       "      <td>1389.817364</td>\n",
       "      <td>1306.271226</td>\n",
       "      <td>477.448946</td>\n",
       "      <td>0.0</td>\n",
       "      <td>477.448946</td>\n",
       "    </tr>\n",
       "    <tr>\n",
       "      <th>3</th>\n",
       "      <td>2023-09-24</td>\n",
       "      <td>Fresh food</td>\n",
       "      <td>Fresh  ready</td>\n",
       "      <td>Desserts  sweets</td>\n",
       "      <td>25</td>\n",
       "      <td>13</td>\n",
       "      <td>47</td>\n",
       "      <td>61.698558</td>\n",
       "      <td>3.516517</td>\n",
       "      <td>41.22566</td>\n",
       "      <td>0</td>\n",
       "      <td>2023-09-24</td>\n",
       "      <td>Sunday</td>\n",
       "      <td>7</td>\n",
       "      <td>24</td>\n",
       "      <td>2899.832226</td>\n",
       "      <td>2734.555927</td>\n",
       "      <td>796.949907</td>\n",
       "      <td>0.0</td>\n",
       "      <td>796.949907</td>\n",
       "    </tr>\n",
       "    <tr>\n",
       "      <th>4</th>\n",
       "      <td>2023-09-15</td>\n",
       "      <td>Fresh food</td>\n",
       "      <td>Meat  fish</td>\n",
       "      <td>Meat  fish alternatives</td>\n",
       "      <td>17</td>\n",
       "      <td>3</td>\n",
       "      <td>8</td>\n",
       "      <td>13.061563</td>\n",
       "      <td>1.358066</td>\n",
       "      <td>8.68154</td>\n",
       "      <td>0</td>\n",
       "      <td>2023-09-15</td>\n",
       "      <td>Friday</td>\n",
       "      <td>5</td>\n",
       "      <td>15</td>\n",
       "      <td>104.492504</td>\n",
       "      <td>93.627976</td>\n",
       "      <td>24.175656</td>\n",
       "      <td>0.0</td>\n",
       "      <td>24.175656</td>\n",
       "    </tr>\n",
       "  </tbody>\n",
       "</table>\n",
       "</div>"
      ],
      "text/plain": [
       "        time category_level_0 category_level_1         category_level_2  \\\n",
       "0 2023-09-17       Fresh food           Cheese              Hard cheese   \n",
       "1 2023-08-02       Fresh food           Bakery              Gluten free   \n",
       "2 2023-08-26       Fresh food      Dairy  eggs        Sour cream  cream   \n",
       "3 2023-09-24       Fresh food     Fresh  ready         Desserts  sweets   \n",
       "4 2023-09-15       Fresh food       Meat  fish  Meat  fish alternatives   \n",
       "\n",
       "   unique_skus_listed  unique_skus_sold  num_of_sold_sku_items  \\\n",
       "0                  26                17                     37   \n",
       "1                   1                 0                      0   \n",
       "2                  14                10                     26   \n",
       "3                  25                13                     47   \n",
       "4                  17                 3                      8   \n",
       "\n",
       "   price_before_discount_includ_vat_eur  discount_value_eur  \\\n",
       "0                            135.812592           10.491467   \n",
       "1                              0.000000            0.000000   \n",
       "2                             53.454514            3.213313   \n",
       "3                             61.698558            3.516517   \n",
       "4                             13.061563            1.358066   \n",
       "\n",
       "   item_cogs_net_vat_eur  waste_num_of_items       date   day_name  weekday  \\\n",
       "0               88.81738                   0 2023-09-17     Sunday        7   \n",
       "1                0.00000                   0 2023-08-02  Wednesday        3   \n",
       "2               31.87778                   0 2023-08-26   Saturday        6   \n",
       "3               41.22566                   0 2023-09-24     Sunday        7   \n",
       "4                8.68154                   0 2023-09-15     Friday        5   \n",
       "\n",
       "   day_of_month  revenue_before_discount  revenue_after_discount  \\\n",
       "0            17              5025.065904             4636.881625   \n",
       "1             2                 0.000000                0.000000   \n",
       "2            26              1389.817364             1306.271226   \n",
       "3            24              2899.832226             2734.555927   \n",
       "4            15               104.492504               93.627976   \n",
       "\n",
       "   profit_before_waste  waste_cogs  profit_after_waste  \n",
       "0          1350.638565         0.0         1350.638565  \n",
       "1             0.000000         0.0            0.000000  \n",
       "2           477.448946         0.0          477.448946  \n",
       "3           796.949907         0.0          796.949907  \n",
       "4            24.175656         0.0           24.175656  "
      ]
     },
     "execution_count": 3,
     "metadata": {},
     "output_type": "execute_result"
    }
   ],
   "source": [
    "print(df_clean.time.count())\n",
    "df_clean.head()"
   ]
  },
  {
   "cell_type": "code",
   "execution_count": 4,
   "metadata": {},
   "outputs": [
    {
     "data": {
      "text/plain": [
       "['category_level_0',\n",
       " 'category_level_1',\n",
       " 'category_level_2',\n",
       " 'date',\n",
       " 'day_name',\n",
       " 'day_of_month',\n",
       " 'discount_value_eur',\n",
       " 'item_cogs_net_vat_eur',\n",
       " 'num_of_sold_sku_items',\n",
       " 'price_before_discount_includ_vat_eur',\n",
       " 'profit_after_waste',\n",
       " 'profit_before_waste',\n",
       " 'revenue_after_discount',\n",
       " 'revenue_before_discount',\n",
       " 'time',\n",
       " 'unique_skus_listed',\n",
       " 'unique_skus_sold',\n",
       " 'waste_cogs',\n",
       " 'waste_num_of_items',\n",
       " 'weekday']"
      ]
     },
     "execution_count": 4,
     "metadata": {},
     "output_type": "execute_result"
    }
   ],
   "source": [
    "sorted(df_clean.columns)"
   ]
  },
  {
   "cell_type": "code",
   "execution_count": 5,
   "metadata": {},
   "outputs": [
    {
     "name": "stdout",
     "output_type": "stream",
     "text": [
      "17310\n"
     ]
    },
    {
     "data": {
      "text/html": [
       "<div>\n",
       "<style scoped>\n",
       "    .dataframe tbody tr th:only-of-type {\n",
       "        vertical-align: middle;\n",
       "    }\n",
       "\n",
       "    .dataframe tbody tr th {\n",
       "        vertical-align: top;\n",
       "    }\n",
       "\n",
       "    .dataframe thead th {\n",
       "        text-align: right;\n",
       "    }\n",
       "</style>\n",
       "<table border=\"1\" class=\"dataframe\">\n",
       "  <thead>\n",
       "    <tr style=\"text-align: right;\">\n",
       "      <th></th>\n",
       "      <th>time</th>\n",
       "      <th>category_level_0</th>\n",
       "      <th>category_level_1</th>\n",
       "      <th>category_level_2</th>\n",
       "      <th>unique_skus_listed</th>\n",
       "      <th>unique_skus_sold</th>\n",
       "      <th>num_of_sold_sku_items</th>\n",
       "      <th>price_before_discount_includ_vat_eur</th>\n",
       "      <th>discount_value_eur</th>\n",
       "      <th>item_cogs_net_vat_eur</th>\n",
       "      <th>waste_num_of_items</th>\n",
       "      <th>date</th>\n",
       "      <th>day_name</th>\n",
       "      <th>weekday</th>\n",
       "      <th>day_of_month</th>\n",
       "      <th>revenue_before_discount</th>\n",
       "      <th>revenue_after_discount</th>\n",
       "      <th>profit_before_waste</th>\n",
       "      <th>waste_cogs</th>\n",
       "      <th>profit_after_waste</th>\n",
       "    </tr>\n",
       "  </thead>\n",
       "  <tbody>\n",
       "    <tr>\n",
       "      <th>0</th>\n",
       "      <td>2023-09-17</td>\n",
       "      <td>Fresh food</td>\n",
       "      <td>Cheese</td>\n",
       "      <td>Hard cheese</td>\n",
       "      <td>26</td>\n",
       "      <td>17</td>\n",
       "      <td>37</td>\n",
       "      <td>135.812592</td>\n",
       "      <td>10.491467</td>\n",
       "      <td>88.81738</td>\n",
       "      <td>0</td>\n",
       "      <td>2023-09-17</td>\n",
       "      <td>Sunday</td>\n",
       "      <td>7</td>\n",
       "      <td>17</td>\n",
       "      <td>5025.065904</td>\n",
       "      <td>4636.881625</td>\n",
       "      <td>1350.638565</td>\n",
       "      <td>0.0</td>\n",
       "      <td>1350.638565</td>\n",
       "    </tr>\n",
       "    <tr>\n",
       "      <th>1</th>\n",
       "      <td>2023-08-02</td>\n",
       "      <td>Fresh food</td>\n",
       "      <td>Bakery</td>\n",
       "      <td>Gluten free</td>\n",
       "      <td>1</td>\n",
       "      <td>0</td>\n",
       "      <td>0</td>\n",
       "      <td>0.000000</td>\n",
       "      <td>0.000000</td>\n",
       "      <td>0.00000</td>\n",
       "      <td>0</td>\n",
       "      <td>2023-08-02</td>\n",
       "      <td>Wednesday</td>\n",
       "      <td>3</td>\n",
       "      <td>2</td>\n",
       "      <td>0.000000</td>\n",
       "      <td>0.000000</td>\n",
       "      <td>0.000000</td>\n",
       "      <td>0.0</td>\n",
       "      <td>0.000000</td>\n",
       "    </tr>\n",
       "    <tr>\n",
       "      <th>2</th>\n",
       "      <td>2023-08-26</td>\n",
       "      <td>Fresh food</td>\n",
       "      <td>Dairy  eggs</td>\n",
       "      <td>Sour cream  cream</td>\n",
       "      <td>14</td>\n",
       "      <td>10</td>\n",
       "      <td>26</td>\n",
       "      <td>53.454514</td>\n",
       "      <td>3.213313</td>\n",
       "      <td>31.87778</td>\n",
       "      <td>0</td>\n",
       "      <td>2023-08-26</td>\n",
       "      <td>Saturday</td>\n",
       "      <td>6</td>\n",
       "      <td>26</td>\n",
       "      <td>1389.817364</td>\n",
       "      <td>1306.271226</td>\n",
       "      <td>477.448946</td>\n",
       "      <td>0.0</td>\n",
       "      <td>477.448946</td>\n",
       "    </tr>\n",
       "    <tr>\n",
       "      <th>3</th>\n",
       "      <td>2023-09-24</td>\n",
       "      <td>Fresh food</td>\n",
       "      <td>Fresh  ready</td>\n",
       "      <td>Desserts  sweets</td>\n",
       "      <td>25</td>\n",
       "      <td>13</td>\n",
       "      <td>47</td>\n",
       "      <td>61.698558</td>\n",
       "      <td>3.516517</td>\n",
       "      <td>41.22566</td>\n",
       "      <td>0</td>\n",
       "      <td>2023-09-24</td>\n",
       "      <td>Sunday</td>\n",
       "      <td>7</td>\n",
       "      <td>24</td>\n",
       "      <td>2899.832226</td>\n",
       "      <td>2734.555927</td>\n",
       "      <td>796.949907</td>\n",
       "      <td>0.0</td>\n",
       "      <td>796.949907</td>\n",
       "    </tr>\n",
       "    <tr>\n",
       "      <th>4</th>\n",
       "      <td>2023-09-15</td>\n",
       "      <td>Fresh food</td>\n",
       "      <td>Meat  fish</td>\n",
       "      <td>Meat  fish alternatives</td>\n",
       "      <td>17</td>\n",
       "      <td>3</td>\n",
       "      <td>8</td>\n",
       "      <td>13.061563</td>\n",
       "      <td>1.358066</td>\n",
       "      <td>8.68154</td>\n",
       "      <td>0</td>\n",
       "      <td>2023-09-15</td>\n",
       "      <td>Friday</td>\n",
       "      <td>5</td>\n",
       "      <td>15</td>\n",
       "      <td>104.492504</td>\n",
       "      <td>93.627976</td>\n",
       "      <td>24.175656</td>\n",
       "      <td>0.0</td>\n",
       "      <td>24.175656</td>\n",
       "    </tr>\n",
       "  </tbody>\n",
       "</table>\n",
       "</div>"
      ],
      "text/plain": [
       "        time category_level_0 category_level_1         category_level_2  \\\n",
       "0 2023-09-17       Fresh food           Cheese              Hard cheese   \n",
       "1 2023-08-02       Fresh food           Bakery              Gluten free   \n",
       "2 2023-08-26       Fresh food      Dairy  eggs        Sour cream  cream   \n",
       "3 2023-09-24       Fresh food     Fresh  ready         Desserts  sweets   \n",
       "4 2023-09-15       Fresh food       Meat  fish  Meat  fish alternatives   \n",
       "\n",
       "   unique_skus_listed  unique_skus_sold  num_of_sold_sku_items  \\\n",
       "0                  26                17                     37   \n",
       "1                   1                 0                      0   \n",
       "2                  14                10                     26   \n",
       "3                  25                13                     47   \n",
       "4                  17                 3                      8   \n",
       "\n",
       "   price_before_discount_includ_vat_eur  discount_value_eur  \\\n",
       "0                            135.812592           10.491467   \n",
       "1                              0.000000            0.000000   \n",
       "2                             53.454514            3.213313   \n",
       "3                             61.698558            3.516517   \n",
       "4                             13.061563            1.358066   \n",
       "\n",
       "   item_cogs_net_vat_eur  waste_num_of_items       date   day_name  weekday  \\\n",
       "0               88.81738                   0 2023-09-17     Sunday        7   \n",
       "1                0.00000                   0 2023-08-02  Wednesday        3   \n",
       "2               31.87778                   0 2023-08-26   Saturday        6   \n",
       "3               41.22566                   0 2023-09-24     Sunday        7   \n",
       "4                8.68154                   0 2023-09-15     Friday        5   \n",
       "\n",
       "   day_of_month  revenue_before_discount  revenue_after_discount  \\\n",
       "0            17              5025.065904             4636.881625   \n",
       "1             2                 0.000000                0.000000   \n",
       "2            26              1389.817364             1306.271226   \n",
       "3            24              2899.832226             2734.555927   \n",
       "4            15               104.492504               93.627976   \n",
       "\n",
       "   profit_before_waste  waste_cogs  profit_after_waste  \n",
       "0          1350.638565         0.0         1350.638565  \n",
       "1             0.000000         0.0            0.000000  \n",
       "2           477.448946         0.0          477.448946  \n",
       "3           796.949907         0.0          796.949907  \n",
       "4            24.175656         0.0           24.175656  "
      ]
     },
     "execution_count": 5,
     "metadata": {},
     "output_type": "execute_result"
    }
   ],
   "source": [
    "print(df_products.time.count())\n",
    "df_products.head()"
   ]
  },
  {
   "cell_type": "markdown",
   "metadata": {},
   "source": [
    "# Dataset exploration\n",
    "Checking what values do we have in the dataset and what is the range for numeric ones. It is a preparation that is needed before starting the analysis itself."
   ]
  },
  {
   "cell_type": "markdown",
   "metadata": {},
   "source": [
    "## Dates range"
   ]
  },
  {
   "cell_type": "code",
   "execution_count": 6,
   "metadata": {},
   "outputs": [
    {
     "data": {
      "text/plain": [
       "(Timestamp('2023-07-01 00:00:00'), Timestamp('2023-09-30 00:00:00'))"
      ]
     },
     "execution_count": 6,
     "metadata": {},
     "output_type": "execute_result"
    }
   ],
   "source": [
    "#  What is the range of dates in the dataset?\n",
    "df_clean['time'].min(), df_clean['time'].max()"
   ]
  },
  {
   "cell_type": "code",
   "execution_count": 7,
   "metadata": {},
   "outputs": [
    {
     "data": {
      "text/plain": [
       "False"
      ]
     },
     "execution_count": 7,
     "metadata": {},
     "output_type": "execute_result"
    }
   ],
   "source": [
    "# If there are any days without data inside this range?\n",
    "df_clean['date'] = pd.to_datetime(df_clean['time'])\n",
    "min_date = df_clean['date'].min()\n",
    "max_date = df_clean['date'].max()\n",
    "date_range = pd.date_range(start=min_date, end=max_date, freq='D')\n",
    "\n",
    "set(date_range).issubset(set(df_clean['date']))"
   ]
  },
  {
   "cell_type": "code",
   "execution_count": 8,
   "metadata": {},
   "outputs": [
    {
     "data": {
      "text/plain": [
       "[Timestamp('2023-08-15 00:00:00', freq='D')]"
      ]
     },
     "execution_count": 8,
     "metadata": {},
     "output_type": "execute_result"
    }
   ],
   "source": [
    "[date for date in date_range if date not in set(df_clean['date'])]"
   ]
  },
  {
   "cell_type": "markdown",
   "metadata": {},
   "source": [
    "Ok, so it is just 1 day missed. This means we can try to check weekdays and still have enough data for each of it. At least for overall evploration."
   ]
  },
  {
   "cell_type": "code",
   "execution_count": 9,
   "metadata": {},
   "outputs": [
    {
     "data": {
      "text/html": [
       "<div>\n",
       "<style scoped>\n",
       "    .dataframe tbody tr th:only-of-type {\n",
       "        vertical-align: middle;\n",
       "    }\n",
       "\n",
       "    .dataframe tbody tr th {\n",
       "        vertical-align: top;\n",
       "    }\n",
       "\n",
       "    .dataframe thead th {\n",
       "        text-align: right;\n",
       "    }\n",
       "</style>\n",
       "<table border=\"1\" class=\"dataframe\">\n",
       "  <thead>\n",
       "    <tr style=\"text-align: right;\">\n",
       "      <th></th>\n",
       "      <th>time</th>\n",
       "      <th>day_name</th>\n",
       "      <th>weekday</th>\n",
       "    </tr>\n",
       "  </thead>\n",
       "  <tbody>\n",
       "    <tr>\n",
       "      <th>0</th>\n",
       "      <td>2023-09-17</td>\n",
       "      <td>Sunday</td>\n",
       "      <td>7</td>\n",
       "    </tr>\n",
       "    <tr>\n",
       "      <th>1</th>\n",
       "      <td>2023-08-02</td>\n",
       "      <td>Wednesday</td>\n",
       "      <td>3</td>\n",
       "    </tr>\n",
       "    <tr>\n",
       "      <th>2</th>\n",
       "      <td>2023-08-26</td>\n",
       "      <td>Saturday</td>\n",
       "      <td>6</td>\n",
       "    </tr>\n",
       "    <tr>\n",
       "      <th>3</th>\n",
       "      <td>2023-09-24</td>\n",
       "      <td>Sunday</td>\n",
       "      <td>7</td>\n",
       "    </tr>\n",
       "  </tbody>\n",
       "</table>\n",
       "</div>"
      ],
      "text/plain": [
       "        time   day_name  weekday\n",
       "0 2023-09-17     Sunday        7\n",
       "1 2023-08-02  Wednesday        3\n",
       "2 2023-08-26   Saturday        6\n",
       "3 2023-09-24     Sunday        7"
      ]
     },
     "execution_count": 9,
     "metadata": {},
     "output_type": "execute_result"
    }
   ],
   "source": [
    "# Adding weekday column to the dataframe to analyse dynamics of sales by week days.\n",
    "df_clean['day_name'] = df_clean['time'].dt.day_name()\n",
    "df_clean['weekday'] = df_clean['time'].dt.dayofweek + 1\n",
    "df_clean[['time', 'day_name', 'weekday']].head(4)"
   ]
  },
  {
   "cell_type": "markdown",
   "metadata": {},
   "source": [
    "## Categories hierarchy"
   ]
  },
  {
   "cell_type": "code",
   "execution_count": 10,
   "metadata": {},
   "outputs": [
    {
     "name": "stdout",
     "output_type": "stream",
     "text": [
      "['Fresh food' 'Grocery food' 'Grocery nonfood' 'Not defined' 'Other']\n",
      "==========\n",
      "Fresh food sub-categories:\n",
      "['Bakery' 'Cheese' 'Dairy  eggs' 'Fresh  ready' 'Fruits  vegetables'\n",
      " 'Meat  fish']\n",
      "=====\n",
      "Grocery food sub-categories:\n",
      "['Beer  cider' 'Beverages' 'Canned goods  preserves' 'Coffee tea  cocoa'\n",
      " 'Frozen products' 'Ice cream' 'Instant meals' 'Pantry' 'Salty snacks'\n",
      " 'Spirits' 'Sweet snacks' 'Water  flavoured water' 'Wine']\n",
      "=====\n",
      "Grocery nonfood sub-categories:\n",
      "['Baby care' 'Health  safety' 'Home accessories' 'Home care'\n",
      " 'Personal care' 'Pet care' 'Tobacco  heated tobacco' 'Toys  games']\n",
      "=====\n",
      "Not defined sub-categories:\n",
      "['Not defined']\n",
      "=====\n",
      "Other sub-categories:\n",
      "['Save me']\n",
      "=====\n"
     ]
    }
   ],
   "source": [
    "# Ok, so the df is relatively small, so let's check what values we have inside it on the first and second levels.\n",
    "print(df_clean['category_level_0'].unique())\n",
    "print('==========')\n",
    "\n",
    "for x in df_clean['category_level_0'].unique():\n",
    "    print(x + ' sub-categories:')\n",
    "    unique_values_series = pd.Series(df_clean[df_clean['category_level_0'] == x]['category_level_1'].unique())\n",
    "    print(unique_values_series.sort_values().values)\n",
    "    print('=====')"
   ]
  },
  {
   "cell_type": "markdown",
   "metadata": {},
   "source": [
    "What is the \"Save me\" sub-category?"
   ]
  },
  {
   "cell_type": "code",
   "execution_count": 11,
   "metadata": {},
   "outputs": [
    {
     "data": {
      "text/plain": [
       "['Packaging fee']"
      ]
     },
     "execution_count": 11,
     "metadata": {},
     "output_type": "execute_result"
    }
   ],
   "source": [
    "sorted(df_clean[df_clean['category_level_1'] == 'Save me']['category_level_2'].unique())"
   ]
  },
  {
   "cell_type": "markdown",
   "metadata": {},
   "source": [
    "Ok, so this is a technical thing that we should exclude it from the demand's analysis."
   ]
  },
  {
   "cell_type": "markdown",
   "metadata": {},
   "source": [
    "Checking \"Not defined\" also."
   ]
  },
  {
   "cell_type": "code",
   "execution_count": 12,
   "metadata": {},
   "outputs": [
    {
     "data": {
      "text/plain": [
       "['Not defined']"
      ]
     },
     "execution_count": 12,
     "metadata": {},
     "output_type": "execute_result"
    }
   ],
   "source": [
    "sorted(df_clean[df_clean['category_level_1'] == 'Not defined']['category_level_2'].unique())"
   ]
  },
  {
   "cell_type": "markdown",
   "metadata": {},
   "source": [
    "This has to be a product's category, but we need to escalate why we have missed values in case it has enough impact over our revenue."
   ]
  }
 ],
 "metadata": {
  "kernelspec": {
   "display_name": "base",
   "language": "python",
   "name": "python3"
  },
  "language_info": {
   "codemirror_mode": {
    "name": "ipython",
    "version": 3
   },
   "file_extension": ".py",
   "mimetype": "text/x-python",
   "name": "python",
   "nbconvert_exporter": "python",
   "pygments_lexer": "ipython3",
   "version": "3.9.13"
  }
 },
 "nbformat": 4,
 "nbformat_minor": 2
}
